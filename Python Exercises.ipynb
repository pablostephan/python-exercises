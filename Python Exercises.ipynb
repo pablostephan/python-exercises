{
 "cells": [
  {
   "cell_type": "markdown",
   "metadata": {},
   "source": [
    "# <font color='blue'>Data Science Academy</font>\n",
    "\n",
    "## <font color='blue'>Fundamentos de Linguagem Python Para Análise de Dados e Data Science</font>\n",
    "\n",
    "## <font color='blue'>Capítulo 6 - Exercícios</font>"
   ]
  },
  {
   "cell_type": "code",
   "execution_count": 1,
   "metadata": {},
   "outputs": [
    {
     "name": "stdout",
     "output_type": "stream",
     "text": [
      "Versão da Linguagem Python Usada Neste Jupyter Notebook: 3.11.7\n"
     ]
    }
   ],
   "source": [
    "# Versão da Linguagem Python\n",
    "from platform import python_version\n",
    "print('Versão da Linguagem Python Usada Neste Jupyter Notebook:', python_version())"
   ]
  },
  {
   "cell_type": "markdown",
   "metadata": {},
   "source": [
    "## Exercícios "
   ]
  },
  {
   "cell_type": "code",
   "execution_count": 2,
   "metadata": {},
   "outputs": [
    {
     "name": "stdout",
     "output_type": "stream",
     "text": [
      "Você quer elevar os números a seguir a qual potência? 2\n",
      "Digite o 1º número de 3 números para elevar à potência de 2: 3\n",
      "Digite o 2º número de 3 números para elevar à potência de 2: 4\n",
      "Digite o 3º número de 3 números para elevar à potência de 2: 2\n",
      "[9.0, 16.0, 4.0]\n"
     ]
    }
   ],
   "source": [
    "def power(x, y): \n",
    "    return pow(x, y)\n",
    "\n",
    "def calc(power_value):\n",
    "    ops = {'power': power}  # Dictionary with the power function\n",
    "    l = []\n",
    "    for i in range(3):\n",
    "        num = float(input(f'Digite o {i + 1}º número de 3 números para elevar à potência de {power_value}: '))\n",
    "        # Using the dictionary and power function to calculate the results\n",
    "        result = ops['power'](num, power_value)\n",
    "        l.append(result)\n",
    "    print(l)\n",
    "\n",
    "# Ask the user for the desired power\n",
    "power_value = int(input('Você quer elevar os números a seguir a qual potência? '))\n",
    "calc(power_value)  # Call the function, passing the power as an argument"
   ]
  },
  {
   "cell_type": "code",
   "execution_count": 1,
   "metadata": {},
   "outputs": [
    {
     "name": "stdout",
     "output_type": "stream",
     "text": [
      "['A', 'a', 1]\n",
      "['DATA', 'data', 4]\n",
      "['SCIENCE', 'science', 7]\n",
      "['ACADEMY', 'academy', 7]\n",
      "['OFERCE', 'oferce', 6]\n",
      "['OS', 'os', 2]\n",
      "['MELHORES', 'melhores', 8]\n",
      "['CURSOS', 'cursos', 6]\n",
      "['DE', 'de', 2]\n",
      "['ANÁLISE', 'análise', 7]\n",
      "['DE', 'de', 2]\n",
      "['DADOS', 'dados', 5]\n",
      "['DO', 'do', 2]\n",
      "['BRASIL.', 'brasil.', 7]\n"
     ]
    }
   ],
   "source": [
    "# Exercício 2 - Reescreva o código abaixo, usando a função map(). O resultado final deve ser o mesmo!\n",
    "palavras = 'A Data Science Academy oferce os melhores cursos de análise de dados do Brasil.'.split()\n",
    "resultado = [[w.upper(), w.lower(), len(w)] for w in palavras]\n",
    "for i in resultado:\n",
    "    print (i)"
   ]
  },
  {
   "cell_type": "code",
   "execution_count": 2,
   "metadata": {},
   "outputs": [
    {
     "name": "stdout",
     "output_type": "stream",
     "text": [
      "['A', 'a', 1]\n",
      "['DATA', 'data', 4]\n",
      "['SCIENCE', 'science', 7]\n",
      "['ACADEMY', 'academy', 7]\n",
      "['OFERCE', 'oferce', 6]\n",
      "['OS', 'os', 2]\n",
      "['MELHORES', 'melhores', 8]\n",
      "['CURSOS', 'cursos', 6]\n",
      "['DE', 'de', 2]\n",
      "['ANÁLISE', 'análise', 7]\n",
      "['DE', 'de', 2]\n",
      "['DADOS', 'dados', 5]\n",
      "['DO', 'do', 2]\n",
      "['BRASIL.', 'brasil.', 7]\n"
     ]
    }
   ],
   "source": [
    "# Solução\n",
    "\n",
    "# Usando map() com lambda para aplicar as transformações\n",
    "palavras = 'A Data Science Academy oferce os melhores cursos de análise de dados do Brasil.'.split()\n",
    "resultado = list(map(lambda w: [w.upper(), w.lower(), len(w)], palavras))\n",
    "\n",
    "# Imprimindo o resultado\n",
    "for i in resultado:\n",
    "    print(i)"
   ]
  },
  {
   "cell_type": "code",
   "execution_count": 10,
   "metadata": {},
   "outputs": [
    {
     "name": "stdout",
     "output_type": "stream",
     "text": [
      "[[1, 3, 5, 7], [2, 4, 6, 8]]\n"
     ]
    }
   ],
   "source": [
    "# Exercício 3 - Calcule a matriz transposta da matriz abaixo.\n",
    "# Caso não saiba o que é matriz transposta, visite este link: https://pt.wikipedia.org/wiki/Matriz_transposta\n",
    "# Matriz transposta é um conceito fundamental na construção de redes neurais artificiais, base de sistemas de IA.\n",
    "\n",
    "matrix = [[1, 2],[3,4],[5,6],[7,8]]\n",
    "transpose = [[row[i] for row in matrix] for i in range(2)]\n",
    "print(transpose)\n",
    "\n",
    "# Matriz original\n",
    "matrix = [[1, 2], [3, 4], [5, 6], [7, 8]]\n",
    "\n",
    "# Calculando a transposta usando list comprehension\n",
    "transposed_matrix = [[row[i] for row in matrix] for i in range(len(matrix[0]))]\n",
    "\n",
    "# Exibindo a matriz transposta\n",
    "for row in transposed_matrix:\n",
    "    print(row)"
   ]
  },
  {
   "cell_type": "code",
   "execution_count": 35,
   "metadata": {},
   "outputs": [
    {
     "name": "stdout",
     "output_type": "stream",
     "text": [
      "[0, 1, 4, 9, 16]\n",
      "[0, 1, 8, 27, 64]\n",
      "[(0, 0), (1, 1), (4, 8), (9, 27), (16, 64)]\n"
     ]
    }
   ],
   "source": [
    "# Exercício 4 - Crie duas funções, uma para elevar um número ao quadrado e outra para elevar ao cubo. \n",
    "# Aplique as duas funções aos elementos da lista abaixo. \n",
    "# Obs: as duas funções devem ser aplicadas simultaneamente.\n",
    "\n",
    "lista = [0, 1, 2, 3, 4]\n",
    "\n",
    "def double():\n",
    "    x = list(map(lambda x: x ** 2, lista))\n",
    "    print(x)\n",
    "double()\n",
    "    \n",
    "def triple():\n",
    "    y = list(map(lambda y: y ** 3, lista))\n",
    "    print(y)\n",
    "triple()\n",
    "\n",
    "def quadrado_e_cubo(x):\n",
    "    return x ** 2, x ** 3\n",
    "\n",
    "resultados = list(map(quadrado_e_cubo, lista))\n",
    "print(resultados)\n",
    "    "
   ]
  },
  {
   "cell_type": "code",
   "execution_count": 31,
   "metadata": {},
   "outputs": [
    {
     "name": "stdout",
     "output_type": "stream",
     "text": [
      "[1024, 177147, 16777216]\n",
      "[1024, 177147, 16777216]\n"
     ]
    },
    {
     "data": {
      "text/plain": [
       "[1024, 177147, 16777216]"
      ]
     },
     "execution_count": 31,
     "metadata": {},
     "output_type": "execute_result"
    }
   ],
   "source": [
    "# Exercício 5 - Abaixo você encontra duas listas. Faça com que cada elemento da listaA seja elevado \n",
    "# ao elemento correspondente na listaB.\n",
    "listaA = [2, 3, 4]\n",
    "listaB = [10, 11, 12]\n",
    "\n",
    "resultado = list(map(lambda a, b: a ** b, listaA, listaB))\n",
    "print(resultado)\n",
    "\n",
    "resultado = [a ** b for a, b in zip(listaA, listaB)]\n",
    "print(resultado)\n",
    "\n",
    "list(map(pow, listaA, listaB))"
   ]
  },
  {
   "cell_type": "code",
   "execution_count": 53,
   "metadata": {},
   "outputs": [
    {
     "name": "stdout",
     "output_type": "stream",
     "text": [
      "[-5, -4, -3, -2, -1]\n",
      "[-5, -4, -3, -2, -1]\n"
     ]
    }
   ],
   "source": [
    "# Exercício 6 - Considerando o range de valores abaixo, use a função filter() para retornar \n",
    "# apenas os valores negativos.\n",
    "range(-5, 5)\n",
    "\n",
    "def is_neg(n):\n",
    "    return n < 0\n",
    "\n",
    "resultado = list(filter(is_neg, range(-5, 5)))\n",
    "print(resultado)\n",
    "\n",
    "resultado = list(filter(lambda n: n < 0, range(-5, 5)))\n",
    "print(resultado)"
   ]
  },
  {
   "cell_type": "code",
   "execution_count": 6,
   "metadata": {},
   "outputs": [
    {
     "name": "stdout",
     "output_type": "stream",
     "text": [
      "[2, 3, 5, 7]\n",
      "[2, 3, 5, 7]\n"
     ]
    }
   ],
   "source": [
    "# Exercício 7 - Usando a função filter(), encontre os valores que são comuns às duas listas abaixo.\n",
    "a = [1,2,3,5,7,9]\n",
    "b = [2,3,5,6,7,8]\n",
    "\n",
    "def main():\n",
    "    c = []\n",
    "    \n",
    "    for i in a:\n",
    "        for j in b:\n",
    "            if j == i:\n",
    "                c.append(j)\n",
    "    print(c)\n",
    "main()\n",
    "\n",
    "\n",
    "print(list(filter(lambda x: x in b, a)))"
   ]
  },
  {
   "cell_type": "code",
   "execution_count": 29,
   "metadata": {},
   "outputs": [
    {
     "name": "stdout",
     "output_type": "stream",
     "text": [
      "{'a': 4, 'b': 5}\n",
      "{'a': 4, 'b': 5}\n"
     ]
    }
   ],
   "source": [
    "# Exercício 8 - Considere os dois dicionários abaixo. \n",
    "# Crie um terceiro dicionário com as chaves do dicionário 1 e os valores do dicionário 2.\n",
    "dict1 = {'a':1,'b':2}\n",
    "dict2 = {'c':4,'d':5}\n",
    "\n",
    "\n",
    "def trocar_valor(dict1, dict2):\n",
    "    return dict(zip(dict1.keys(), dict2.values()))\n",
    "\n",
    "resultado = trocar_valor(dict1, dict2)\n",
    "\n",
    "print(resultado)\n",
    "\n",
    "# versão 2\n",
    "\n",
    "def trocar_valor(dict1, dict2):\n",
    "    # Cria um novo dicionário com as chaves de dict1 e os valores de dict2\n",
    "    novo_dict = {}\n",
    "    for chave, valor in zip(dict1.keys(), dict2.values()):\n",
    "        novo_dict[chave] = valor\n",
    "    return novo_dict\n",
    "\n",
    "dict1 = {'a': 1, 'b': 2}\n",
    "dict2 = {'c': 4, 'd': 5}\n",
    "\n",
    "resultado = trocar_valor(dict1, dict2)\n",
    "\n",
    "print(resultado)"
   ]
  },
  {
   "cell_type": "code",
   "execution_count": 31,
   "metadata": {},
   "outputs": [
    {
     "name": "stdout",
     "output_type": "stream",
     "text": [
      "g\n",
      "h\n"
     ]
    }
   ],
   "source": [
    "# Exercício 9 - Considere a lista abaixo e retorne apenas os elementos cujo índice for maior que 5.\n",
    "lista = ['a', 'b', 'c', 'd', 'e', 'f', 'g', 'h']\n",
    "\n",
    "for i, v in enumerate(lista):\n",
    "    if i > 5:\n",
    "        print(v)\n"
   ]
  },
  {
   "cell_type": "code",
   "execution_count": 32,
   "metadata": {},
   "outputs": [
    {
     "name": "stdout",
     "output_type": "stream",
     "text": [
      "Academy\n"
     ]
    }
   ],
   "source": [
    "# Exercício 10 - Crie um regex em Python para extrair a palavra que aparece depois das palavras \n",
    "# Data e Science na frase: 'A Data Science Academy oferce os melhores cursos de análise de dados do Brasil.'\n",
    "import re\n",
    "texto = 'A Data Science Academy oferece os melhores cursos de análise de dados do Brasil.'\n",
    "\n",
    "\n",
    "import re\n",
    "\n",
    "texto = 'A Data Science Academy oferece os melhores cursos de análise de dados do Brasil.'\n",
    "\n",
    "# Regex para capturar a palavra seguinte a \"Data\" e \"Science\"\n",
    "padrao = r'\\bData\\s+Science\\s+(\\w+)'\n",
    "\n",
    "resultado = re.search(padrao, texto)\n",
    "\n",
    "if resultado:\n",
    "    print(resultado.group(1))\n",
    "else:\n",
    "    print(\"Nenhuma correspondência encontrada.\")\n"
   ]
  },
  {
   "cell_type": "markdown",
   "metadata": {},
   "source": [
    "# Fim"
   ]
  },
  {
   "cell_type": "markdown",
   "metadata": {},
   "source": [
    "### Obrigado\n",
    "\n",
    "### Visite o Blog da Data Science Academy - <a href=\"http://blog.dsacademy.com.br\">Blog DSA</a>"
   ]
  }
 ],
 "metadata": {
  "kernelspec": {
   "display_name": "Python 3 (ipykernel)",
   "language": "python",
   "name": "python3"
  },
  "language_info": {
   "codemirror_mode": {
    "name": "ipython",
    "version": 3
   },
   "file_extension": ".py",
   "mimetype": "text/x-python",
   "name": "python",
   "nbconvert_exporter": "python",
   "pygments_lexer": "ipython3",
   "version": "3.11.7"
  }
 },
 "nbformat": 4,
 "nbformat_minor": 1
}
